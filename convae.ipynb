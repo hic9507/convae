{
 "cells": [
  {
   "cell_type": "code",
   "execution_count": 1,
   "metadata": {},
   "outputs": [
    {
     "name": "stderr",
     "output_type": "stream",
     "text": [
      "c:\\Users\\user\\anaconda3\\envs\\convae\\lib\\site-packages\\tqdm\\auto.py:21: TqdmWarning: IProgress not found. Please update jupyter and ipywidgets. See https://ipywidgets.readthedocs.io/en/stable/user_install.html\n",
      "  from .autonotebook import tqdm as notebook_tqdm\n"
     ]
    },
    {
     "name": "stdout",
     "output_type": "stream",
     "text": [
      "True\n",
      "True\n",
      "학습을 진행하는 기기: cuda:0\n"
     ]
    }
   ],
   "source": [
    "import random\n",
    "import pandas as pd\n",
    "import numpy as np\n",
    "import os\n",
    "import cv2\n",
    "import torch\n",
    "import torch.nn as nn\n",
    "import torch.optim as optim\n",
    "import torch.nn.functional as F\n",
    "from torch.utils.data import Dataset, DataLoader\n",
    "import torchvision.models as models\n",
    "from tqdm.auto import tqdm\n",
    "from sklearn.model_selection import train_test_split\n",
    "from sklearn.metrics import f1_score, accuracy_score\n",
    "import sklearn\n",
    "from sklearn.model_selection import train_test_split\n",
    "import matplotlib.pyplot as plt\n",
    "from torchinfo import summary\n",
    "from torchvision import models\n",
    "\n",
    "device = torch.device('cuda') if torch.cuda.is_available() else torch.device('cpu')\n",
    "\n",
    "print(torch.cuda.is_available())\n",
    "\n",
    "USE_CUDA = torch.cuda.is_available()\n",
    "print(USE_CUDA)\n",
    "\n",
    "device = torch.device('cuda:0' if USE_CUDA else 'cpu')\n",
    "print('학습을 진행하는 기기:',device)"
   ]
  },
  {
   "cell_type": "code",
   "execution_count": 2,
   "metadata": {},
   "outputs": [],
   "source": [
    "args = {\n",
    "\t'BATCH_SIZE': 4,\n",
    "        'LEARNING_RATE': 0.001,\n",
    "        'NUM_EPOCH': 20,\n",
    "    'IMG_SIZE': 700\n",
    "        }\n",
    "\n",
    "src = 'D:/abnormal_detection_dataset/mvtec_anomaly_detection/metal_nut/train/good/'"
   ]
  },
  {
   "cell_type": "code",
   "execution_count": 3,
   "metadata": {},
   "outputs": [
    {
     "name": "stdout",
     "output_type": "stream",
     "text": [
      "Normal shape: (220, 700, 700, 3)\n",
      "(220, 700, 700, 3)\n",
      "(220,)\n",
      "(176, 700, 700, 3)\n",
      "(44, 700, 700, 3)\n",
      "(176, 700, 700, 3)\n",
      "(176,)\n"
     ]
    }
   ],
   "source": [
    "# 이미지 읽기\n",
    "def img_read(src, file):\n",
    "    img = cv2.imread(src+file, cv2.COLOR_BGR2GRAY)\n",
    "    return img\n",
    "\n",
    "# src 경로에 있는 파일 명을 저장합니다.\n",
    "files = os.listdir(src)\n",
    "\n",
    "X = []\n",
    "Y = []\n",
    "\n",
    "# 경로와 파일명을 입력으로 넣어 확인하고\n",
    "# 데이터를 255로 나눠서 0~1사이로 정규화 하여 X 리스트에 넣습니다.\n",
    "for file in files:\n",
    "    X.append(img_read(src,file)/255.)\n",
    "    Y.append(1) # nomal label : 1\n",
    "\n",
    "# array로 데이터 변환\n",
    "X = np.array(X)\n",
    "Y = np.array(Y)\n",
    "\n",
    "print('Normal shape:',np.shape(X))\n",
    "print(X.shape)\n",
    "print(Y.shape)\n",
    "\n",
    "# Train set, Test set으로 나누기\n",
    "X_train, X_test, Y_train, Y_test  = train_test_split(X, Y, test_size=0.2, random_state=1,shuffle=True)\n",
    "\n",
    "# 형태를 3차원에서 2차원으로 변경, 첫 번째 인덱스 : 이미지 수, 두 번쨰 인덱스 : 2차원 이미지를 1차원으로 변경 후의 길이\n",
    "# X_train = X_train.reshape((len(X_train), np.prod(X_train.shape[1:])))\n",
    "# X_test = X_test.reshape((len(X_test), np.prod(X_test.shape[1:])))\n",
    "\n",
    "print(np.shape(X_train))\n",
    "print(np.shape(X_test))\n",
    "print(X_train.shape)\n",
    "print(Y_train.shape)"
   ]
  },
  {
   "cell_type": "code",
   "execution_count": 4,
   "metadata": {},
   "outputs": [],
   "source": [
    "X_train = torch.Tensor(X_train)\n",
    "X_test = torch.Tensor(X_test)\n",
    "Y_train = torch.Tensor(Y_train)\n",
    "Y_test = torch.Tensor(Y_test)\n",
    "\n",
    "X_train = X_train.to(device)\n",
    "X_test = X_test.to(device)\n",
    "Y_train = Y_train.to(device)\n",
    "Y_test = Y_test.to(device)"
   ]
  },
  {
   "cell_type": "code",
   "execution_count": 5,
   "metadata": {},
   "outputs": [
    {
     "name": "stdout",
     "output_type": "stream",
     "text": [
      "torch.Size([176, 700, 700, 3])\n",
      "torch.Size([44, 700, 700, 3])\n",
      "torch.Size([176])\n",
      "torch.Size([44])\n"
     ]
    }
   ],
   "source": [
    "# X_train = X_train.unsqueeze(dim=1)\n",
    "# X_test = X_test.unsqueeze(dim=1)\n",
    "\n",
    "print(X_train.shape)\n",
    "print(X_test.shape)\n",
    "print(Y_train.shape)\n",
    "print(Y_test.shape)"
   ]
  },
  {
   "cell_type": "code",
   "execution_count": 6,
   "metadata": {},
   "outputs": [],
   "source": [
    "# X_train.permute()"
   ]
  },
  {
   "cell_type": "code",
   "execution_count": 7,
   "metadata": {},
   "outputs": [],
   "source": [
    "class CustomDataset(Dataset):\n",
    "    def __init__(self, X, Y):\n",
    "        self.X = X_train\n",
    "        self.Y = Y_train\n",
    "\n",
    "    def __len__(self):\n",
    "        return len(self.X)\n",
    "\n",
    "    def __getitem__(self, idx):\n",
    "        img = self.X[idx]\n",
    "        labels = self.Y[idx]\n",
    "        return img, labels\n",
    "    \n",
    "    # def sort(self, X_train, X_test):\n",
    "    #     X_train.shape = X_train.permute(0, 3, 1, 2).shape\n",
    "    #     X_test.shape = X_test.permute(0, 3, 1, 2).shape\n",
    "    #     return X_train, X_test\n",
    "\n",
    "class ConvAutoEncoder(nn.Module):\n",
    "    def __init__(self):\n",
    "        super(ConvAutoEncoder, self).__init__()\n",
    "\n",
    "        # Encoder # (args['BATCH_SIZE'], 1, args['IMG_SIZE'], args['IMG_SIZE'])\n",
    "        self.cnn_layer1 = nn.Sequential(\n",
    "            nn.Conv2d(3, 32, kernel_size=3, stride=1, padding=1),\n",
    "            nn.ReLU(),\n",
    "            nn.MaxPool2d(2, 2))\n",
    "\n",
    "        self.cnn_layer2 = nn.Sequential(\n",
    "            nn.Conv2d(32, 64, kernel_size=3, stride=1, padding=1),\n",
    "            nn.ReLU(),\n",
    "            nn.MaxPool2d(2, 2))\n",
    "\n",
    "        # Decoder\n",
    "        self.tran_cnn_layer1 = nn.Sequential(\n",
    "            nn.ConvTranspose2d(64, 32, kernel_size=2, stride=2, padding=0),\n",
    "            nn.ReLU())\n",
    "\n",
    "        self.tran_cnn_layer2 = nn.Sequential(\n",
    "            nn.ConvTranspose2d(32, 3, kernel_size=2, stride=2, padding=0),\n",
    "            nn.Sigmoid())\n",
    "\n",
    "    def forward(self, x):\n",
    "        output = self.cnn_layer1(x)\n",
    "        output = self.cnn_layer2(output)\n",
    "        output = self.tran_cnn_layer1(output)\n",
    "        output = self.tran_cnn_layer2(output)\n",
    "\n",
    "        return output"
   ]
  },
  {
   "cell_type": "code",
   "execution_count": 8,
   "metadata": {},
   "outputs": [
    {
     "data": {
      "text/plain": [
       "=================================================================\n",
       "Layer (type:depth-idx)                   Param #\n",
       "=================================================================\n",
       "ConvAutoEncoder                          --\n",
       "├─Sequential: 1-1                        --\n",
       "│    └─Conv2d: 2-1                       896\n",
       "│    └─ReLU: 2-2                         --\n",
       "│    └─MaxPool2d: 2-3                    --\n",
       "├─Sequential: 1-2                        --\n",
       "│    └─Conv2d: 2-4                       18,496\n",
       "│    └─ReLU: 2-5                         --\n",
       "│    └─MaxPool2d: 2-6                    --\n",
       "├─Sequential: 1-3                        --\n",
       "│    └─ConvTranspose2d: 2-7              8,224\n",
       "│    └─ReLU: 2-8                         --\n",
       "├─Sequential: 1-4                        --\n",
       "│    └─ConvTranspose2d: 2-9              387\n",
       "│    └─Sigmoid: 2-10                     --\n",
       "=================================================================\n",
       "Total params: 28,003\n",
       "Trainable params: 28,003\n",
       "Non-trainable params: 0\n",
       "================================================================="
      ]
     },
     "execution_count": 8,
     "metadata": {},
     "output_type": "execute_result"
    }
   ],
   "source": [
    "X_train = X_train.permute(0, 3, 1, 2)\n",
    "X_test = X_test.permute(0, 3, 1, 2)\n",
    "\n",
    "train_dataset = CustomDataset(X_train, Y_train)\n",
    "train_loader = DataLoader(train_dataset, batch_size=args['BATCH_SIZE'], shuffle=True, num_workers=0)\n",
    "\n",
    "test_dataset = CustomDataset(X_test, Y_test)\n",
    "test_loader = DataLoader(test_dataset, batch_size=args['BATCH_SIZE'], shuffle=False, num_workers=0)\n",
    "\n",
    "model = ConvAutoEncoder()\n",
    "model.to(device)\n",
    "\n",
    "criterion = nn.MSELoss().to(device)\n",
    "optimizer = torch.optim.Adam(model.parameters(), lr=args['LEARNING_RATE'])\n",
    "\n",
    "summary(model)"
   ]
  },
  {
   "cell_type": "code",
   "execution_count": 9,
   "metadata": {},
   "outputs": [
    {
     "name": "stdout",
     "output_type": "stream",
     "text": [
      "torch.Size([176, 3, 700, 700])\n"
     ]
    }
   ],
   "source": [
    "print(X_train.shape)"
   ]
  },
  {
   "cell_type": "code",
   "execution_count": 10,
   "metadata": {},
   "outputs": [
    {
     "name": "stdout",
     "output_type": "stream",
     "text": [
      "Epoch: 1/20 Training loss: 0.27782..\n",
      "Epoch: 2/20 Training loss: 0.01462..\n",
      "Epoch: 3/20 Training loss: 0.00615..\n",
      "Epoch: 4/20 Training loss: 0.00470..\n",
      "Epoch: 5/20 Training loss: 0.00399..\n",
      "Epoch: 6/20 Training loss: 0.00349..\n",
      "Epoch: 7/20 Training loss: 0.00301..\n",
      "Epoch: 8/20 Training loss: 0.00271..\n",
      "Epoch: 9/20 Training loss: 0.00248..\n",
      "Epoch: 10/20 Training loss: 0.00228..\n",
      "Epoch: 11/20 Training loss: 0.00214..\n",
      "Epoch: 12/20 Training loss: 0.00204..\n",
      "Epoch: 13/20 Training loss: 0.00198..\n",
      "Epoch: 14/20 Training loss: 0.00192..\n",
      "Epoch: 15/20 Training loss: 0.00187..\n",
      "Epoch: 16/20 Training loss: 0.00183..\n",
      "Epoch: 17/20 Training loss: 0.00180..\n",
      "Epoch: 18/20 Training loss: 0.00177..\n",
      "Epoch: 19/20 Training loss: 0.00175..\n",
      "Epoch: 20/20 Training loss: 0.00172..\n"
     ]
    }
   ],
   "source": [
    "steps = 0\n",
    "total_steps = len(train_loader)\n",
    "for epoch in range(args['NUM_EPOCH']):\n",
    "    running_loss = 0\n",
    "    for i, (X_train, _) in enumerate(train_loader):\n",
    "        steps += 1\n",
    "\n",
    "        outputs = model(X_train)\n",
    "        loss = criterion(outputs, X_train)\n",
    "        loss.backward()\n",
    "        optimizer.step()\n",
    "        optimizer.zero_grad()\n",
    "        running_loss += loss.item() * X_train.shape[0]\n",
    "\n",
    "        if steps % total_steps == 0:\n",
    "            model.eval()\n",
    "            print('Epoch: {}/{}'.format(epoch + 1, args['NUM_EPOCH']),\n",
    "                  'Training loss: {:.5f}..'.format(running_loss / total_steps))\n",
    "\n",
    "            steps = 0\n",
    "            running_loss = 0\n",
    "            model.train()"
   ]
  },
  {
   "cell_type": "code",
   "execution_count": 11,
   "metadata": {},
   "outputs": [],
   "source": [
    "torch.save(model.state_dict(), './ae1.pth')"
   ]
  },
  {
   "cell_type": "code",
   "execution_count": 12,
   "metadata": {},
   "outputs": [
    {
     "name": "stdout",
     "output_type": "stream",
     "text": [
      "torch.Size([4, 3, 700, 700])\n"
     ]
    }
   ],
   "source": [
    "print(X_train.shape)"
   ]
  },
  {
   "cell_type": "code",
   "execution_count": 13,
   "metadata": {},
   "outputs": [],
   "source": [
    "# print(X_train.permute(0, 3, 1, 2).shape)"
   ]
  },
  {
   "cell_type": "code",
   "execution_count": 14,
   "metadata": {},
   "outputs": [
    {
     "name": "stdout",
     "output_type": "stream",
     "text": [
      "<bound method Module.parameters of ConvAutoEncoder(\n",
      "  (cnn_layer1): Sequential(\n",
      "    (0): Conv2d(3, 32, kernel_size=(3, 3), stride=(1, 1), padding=(1, 1))\n",
      "    (1): ReLU()\n",
      "    (2): MaxPool2d(kernel_size=2, stride=2, padding=0, dilation=1, ceil_mode=False)\n",
      "  )\n",
      "  (cnn_layer2): Sequential(\n",
      "    (0): Conv2d(32, 64, kernel_size=(3, 3), stride=(1, 1), padding=(1, 1))\n",
      "    (1): ReLU()\n",
      "    (2): MaxPool2d(kernel_size=2, stride=2, padding=0, dilation=1, ceil_mode=False)\n",
      "  )\n",
      "  (tran_cnn_layer1): Sequential(\n",
      "    (0): ConvTranspose2d(64, 32, kernel_size=(2, 2), stride=(2, 2))\n",
      "    (1): ReLU()\n",
      "  )\n",
      "  (tran_cnn_layer2): Sequential(\n",
      "    (0): ConvTranspose2d(32, 3, kernel_size=(2, 2), stride=(2, 2))\n",
      "    (1): Sigmoid()\n",
      "  )\n",
      ")>\n"
     ]
    }
   ],
   "source": [
    "#torch.save(model.state_dict(), './ae1.pth')\n",
    "\n",
    "net = ConvAutoEncoder()\n",
    "net.load_state_dict(torch.load('./ae1.pth'))\n",
    "\n",
    "print(net.parameters)"
   ]
  },
  {
   "cell_type": "code",
   "execution_count": 19,
   "metadata": {},
   "outputs": [
    {
     "name": "stdout",
     "output_type": "stream",
     "text": [
      "valdation loss 0.018900344148278236\n"
     ]
    }
   ],
   "source": [
    "preds = []\n",
    "with torch.no_grad():\n",
    "    val_loss = 0.0\n",
    "    for val_input in X_test:\n",
    "        val_output = model(val_input)\n",
    "        preds.append(val_output)\n",
    "        v_loss = criterion(val_output, val_input)\n",
    "        val_loss += v_loss\n",
    "        # print('preds: ', preds[0].shape) # torch.Size([3, 700, 700])\n",
    "        # print('X_test: ', X_test[0].shape) # torch.Size([3, 700, 700])\n",
    "        # print('val_out: ', val_output1.shape) # torch.Size([3, 700, 700])\n",
    "    print('valdation loss {}'.format(val_loss))"
   ]
  },
  {
   "cell_type": "code",
   "execution_count": 63,
   "metadata": {},
   "outputs": [
    {
     "ename": "TypeError",
     "evalue": "Invalid shape (3, 700, 700) for image data",
     "output_type": "error",
     "traceback": [
      "\u001b[1;31m---------------------------------------------------------------------------\u001b[0m",
      "\u001b[1;31mTypeError\u001b[0m                                 Traceback (most recent call last)",
      "Cell \u001b[1;32mIn[63], line 11\u001b[0m\n\u001b[0;32m      9\u001b[0m \u001b[39m# Plot the test image and the model output\u001b[39;00m\n\u001b[0;32m     10\u001b[0m fig, (ax1, ax2) \u001b[39m=\u001b[39m plt\u001b[39m.\u001b[39msubplots(\u001b[39m1\u001b[39m, \u001b[39m2\u001b[39m)\n\u001b[1;32m---> 11\u001b[0m ax1\u001b[39m.\u001b[39;49mimshow(test_image\u001b[39m.\u001b[39;49msqueeze()\u001b[39m.\u001b[39;49mdetach()\u001b[39m.\u001b[39;49mcpu()\u001b[39m.\u001b[39;49mnumpy())\n\u001b[0;32m     12\u001b[0m ax1\u001b[39m.\u001b[39mset_title(\u001b[39m'\u001b[39m\u001b[39mTest Image\u001b[39m\u001b[39m'\u001b[39m)\n\u001b[0;32m     13\u001b[0m ax2\u001b[39m.\u001b[39mimshow(output)\n",
      "File \u001b[1;32mc:\\Users\\user\\anaconda3\\envs\\convae\\lib\\site-packages\\matplotlib\\__init__.py:1472\u001b[0m, in \u001b[0;36m_preprocess_data.<locals>.inner\u001b[1;34m(ax, data, *args, **kwargs)\u001b[0m\n\u001b[0;32m   1469\u001b[0m \u001b[39m@functools\u001b[39m\u001b[39m.\u001b[39mwraps(func)\n\u001b[0;32m   1470\u001b[0m \u001b[39mdef\u001b[39;00m \u001b[39minner\u001b[39m(ax, \u001b[39m*\u001b[39margs, data\u001b[39m=\u001b[39m\u001b[39mNone\u001b[39;00m, \u001b[39m*\u001b[39m\u001b[39m*\u001b[39mkwargs):\n\u001b[0;32m   1471\u001b[0m     \u001b[39mif\u001b[39;00m data \u001b[39mis\u001b[39;00m \u001b[39mNone\u001b[39;00m:\n\u001b[1;32m-> 1472\u001b[0m         \u001b[39mreturn\u001b[39;00m func(ax, \u001b[39m*\u001b[39;49m\u001b[39mmap\u001b[39;49m(sanitize_sequence, args), \u001b[39m*\u001b[39;49m\u001b[39m*\u001b[39;49mkwargs)\n\u001b[0;32m   1474\u001b[0m     bound \u001b[39m=\u001b[39m new_sig\u001b[39m.\u001b[39mbind(ax, \u001b[39m*\u001b[39margs, \u001b[39m*\u001b[39m\u001b[39m*\u001b[39mkwargs)\n\u001b[0;32m   1475\u001b[0m     auto_label \u001b[39m=\u001b[39m (bound\u001b[39m.\u001b[39marguments\u001b[39m.\u001b[39mget(label_namer)\n\u001b[0;32m   1476\u001b[0m                   \u001b[39mor\u001b[39;00m bound\u001b[39m.\u001b[39mkwargs\u001b[39m.\u001b[39mget(label_namer))\n",
      "File \u001b[1;32mc:\\Users\\user\\anaconda3\\envs\\convae\\lib\\site-packages\\matplotlib\\axes\\_axes.py:5665\u001b[0m, in \u001b[0;36mAxes.imshow\u001b[1;34m(self, X, cmap, norm, aspect, interpolation, alpha, vmin, vmax, origin, extent, interpolation_stage, filternorm, filterrad, resample, url, **kwargs)\u001b[0m\n\u001b[0;32m   5657\u001b[0m \u001b[39mself\u001b[39m\u001b[39m.\u001b[39mset_aspect(aspect)\n\u001b[0;32m   5658\u001b[0m im \u001b[39m=\u001b[39m mimage\u001b[39m.\u001b[39mAxesImage(\u001b[39mself\u001b[39m, cmap\u001b[39m=\u001b[39mcmap, norm\u001b[39m=\u001b[39mnorm,\n\u001b[0;32m   5659\u001b[0m                       interpolation\u001b[39m=\u001b[39minterpolation, origin\u001b[39m=\u001b[39morigin,\n\u001b[0;32m   5660\u001b[0m                       extent\u001b[39m=\u001b[39mextent, filternorm\u001b[39m=\u001b[39mfilternorm,\n\u001b[0;32m   5661\u001b[0m                       filterrad\u001b[39m=\u001b[39mfilterrad, resample\u001b[39m=\u001b[39mresample,\n\u001b[0;32m   5662\u001b[0m                       interpolation_stage\u001b[39m=\u001b[39minterpolation_stage,\n\u001b[0;32m   5663\u001b[0m                       \u001b[39m*\u001b[39m\u001b[39m*\u001b[39mkwargs)\n\u001b[1;32m-> 5665\u001b[0m im\u001b[39m.\u001b[39;49mset_data(X)\n\u001b[0;32m   5666\u001b[0m im\u001b[39m.\u001b[39mset_alpha(alpha)\n\u001b[0;32m   5667\u001b[0m \u001b[39mif\u001b[39;00m im\u001b[39m.\u001b[39mget_clip_path() \u001b[39mis\u001b[39;00m \u001b[39mNone\u001b[39;00m:\n\u001b[0;32m   5668\u001b[0m     \u001b[39m# image does not already have clipping set, clip to axes patch\u001b[39;00m\n",
      "File \u001b[1;32mc:\\Users\\user\\anaconda3\\envs\\convae\\lib\\site-packages\\matplotlib\\image.py:710\u001b[0m, in \u001b[0;36m_ImageBase.set_data\u001b[1;34m(self, A)\u001b[0m\n\u001b[0;32m    706\u001b[0m     \u001b[39mself\u001b[39m\u001b[39m.\u001b[39m_A \u001b[39m=\u001b[39m \u001b[39mself\u001b[39m\u001b[39m.\u001b[39m_A[:, :, \u001b[39m0\u001b[39m]\n\u001b[0;32m    708\u001b[0m \u001b[39mif\u001b[39;00m \u001b[39mnot\u001b[39;00m (\u001b[39mself\u001b[39m\u001b[39m.\u001b[39m_A\u001b[39m.\u001b[39mndim \u001b[39m==\u001b[39m \u001b[39m2\u001b[39m\n\u001b[0;32m    709\u001b[0m         \u001b[39mor\u001b[39;00m \u001b[39mself\u001b[39m\u001b[39m.\u001b[39m_A\u001b[39m.\u001b[39mndim \u001b[39m==\u001b[39m \u001b[39m3\u001b[39m \u001b[39mand\u001b[39;00m \u001b[39mself\u001b[39m\u001b[39m.\u001b[39m_A\u001b[39m.\u001b[39mshape[\u001b[39m-\u001b[39m\u001b[39m1\u001b[39m] \u001b[39min\u001b[39;00m [\u001b[39m3\u001b[39m, \u001b[39m4\u001b[39m]):\n\u001b[1;32m--> 710\u001b[0m     \u001b[39mraise\u001b[39;00m \u001b[39mTypeError\u001b[39;00m(\u001b[39m\"\u001b[39m\u001b[39mInvalid shape \u001b[39m\u001b[39m{}\u001b[39;00m\u001b[39m for image data\u001b[39m\u001b[39m\"\u001b[39m\n\u001b[0;32m    711\u001b[0m                     \u001b[39m.\u001b[39mformat(\u001b[39mself\u001b[39m\u001b[39m.\u001b[39m_A\u001b[39m.\u001b[39mshape))\n\u001b[0;32m    713\u001b[0m \u001b[39mif\u001b[39;00m \u001b[39mself\u001b[39m\u001b[39m.\u001b[39m_A\u001b[39m.\u001b[39mndim \u001b[39m==\u001b[39m \u001b[39m3\u001b[39m:\n\u001b[0;32m    714\u001b[0m     \u001b[39m# If the input data has values outside the valid range (after\u001b[39;00m\n\u001b[0;32m    715\u001b[0m     \u001b[39m# normalisation), we issue a warning and then clip X to the bounds\u001b[39;00m\n\u001b[0;32m    716\u001b[0m     \u001b[39m# - otherwise casting wraps extreme values, hiding outliers and\u001b[39;00m\n\u001b[0;32m    717\u001b[0m     \u001b[39m# making reliable interpretation impossible.\u001b[39;00m\n\u001b[0;32m    718\u001b[0m     high \u001b[39m=\u001b[39m \u001b[39m255\u001b[39m \u001b[39mif\u001b[39;00m np\u001b[39m.\u001b[39missubdtype(\u001b[39mself\u001b[39m\u001b[39m.\u001b[39m_A\u001b[39m.\u001b[39mdtype, np\u001b[39m.\u001b[39minteger) \u001b[39melse\u001b[39;00m \u001b[39m1\u001b[39m\n",
      "\u001b[1;31mTypeError\u001b[0m: Invalid shape (3, 700, 700) for image data"
     ]
    },
    {
     "data": {
      "image/png": "[encoded data removed]",
      "text/plain": [
       "<Figure size 640x480 with 2 Axes>"
      ]
     },
     "metadata": {},
     "output_type": "display_data"
    }
   ],
   "source": [
    "# Get the model output\n",
    "with torch.no_grad():\n",
    "    test_image= X_test[0]\n",
    "    output = model(test_image.unsqueeze(0))\n",
    "\n",
    "# Convert the output to a numpy array\n",
    "output = output.squeeze().detach().cpu().numpy()\n",
    "\n",
    "# Plot the test image and the model output\n",
    "fig, (ax1, ax2) = plt.subplots(1, 2)\n",
    "ax1.imshow(test_image.permute(1, 2, 0))\n",
    "ax1.set_title('Test Image')\n",
    "ax2.imshow(output.squeeze().detach().cpu().numpy().transpose((1, 2, 0))\n",
    "ax2.set_title('Model Output')\n",
    "plt.show()"
   ]
  },
  {
   "cell_type": "code",
   "execution_count": 58,
   "metadata": {},
   "outputs": [
    {
     "ename": "RuntimeError",
     "evalue": "shape '[700, 700]' is invalid for input of size 1470000",
     "output_type": "error",
     "traceback": [
      "\u001b[1;31m---------------------------------------------------------------------------\u001b[0m",
      "\u001b[1;31mRuntimeError\u001b[0m                              Traceback (most recent call last)",
      "Cell \u001b[1;32mIn[58], line 16\u001b[0m\n\u001b[0;32m     13\u001b[0m test_sample\u001b[39m.\u001b[39mappend(val_input1)\n\u001b[0;32m     14\u001b[0m pred_sample\u001b[39m.\u001b[39mappend(val_output1)\n\u001b[1;32m---> 16\u001b[0m org_img1 \u001b[39m=\u001b[39m (test_sample[i]\u001b[39m.\u001b[39;49mreshape(\u001b[39m700\u001b[39;49m, \u001b[39m700\u001b[39;49m))\u001b[39m.\u001b[39margmax(\u001b[39m1\u001b[39m)\u001b[39m.\u001b[39mcpu()\u001b[39m.\u001b[39mnumpy()\n\u001b[0;32m     17\u001b[0m rec_img1 \u001b[39m=\u001b[39m (pred_sample[i]\u001b[39m.\u001b[39mreshape(\u001b[39m700\u001b[39m, \u001b[39m700\u001b[39m))\u001b[39m.\u001b[39margmax(\u001b[39m1\u001b[39m)\u001b[39m.\u001b[39mcpu()\u001b[39m.\u001b[39mnumpy()\n\u001b[0;32m     18\u001b[0m \u001b[39mprint\u001b[39m(org_img1\u001b[39m.\u001b[39mshape)\n",
      "\u001b[1;31mRuntimeError\u001b[0m: shape '[700, 700]' is invalid for input of size 1470000"
     ]
    },
    {
     "data": {
      "image/png": "[encoded data removed]",
      "text/plain": [
       "<Figure size 1500x400 with 20 Axes>"
      ]
     },
     "metadata": {},
     "output_type": "display_data"
    }
   ],
   "source": [
    "sample_size = 10\n",
    "\n",
    "test_sample, pred_sample = [], []\n",
    "\n",
    "with torch.no_grad():\n",
    "    fig, ax = plt.subplots(2, sample_size, figsize=(15, 4))\n",
    "    # plt.title('reconstruct')\n",
    "    for i in range(sample_size):\n",
    "\n",
    "        val_input1 = X_test[i]\n",
    "        for val_input1 in X_test:\n",
    "            val_output1 = model(val_input1)\n",
    "            test_sample.append(val_input1)\n",
    "            pred_sample.append(val_output1)\n",
    "            \n",
    "            org_img1 = (test_sample[i].reshape(700, 700)).argmax(1).cpu().numpy()\n",
    "            rec_img1 = (pred_sample[i].reshape(700, 700)).argmax(1).cpu().numpy()\n",
    "            print(org_img1.shape)\n",
    "            ax[0][i].set_axis_off()\n",
    "            ax[1][i].set_axis_off()\n",
    "\n",
    "            ax[0][i].imshow(org_img1, cmap=plt.cm.bone)\n",
    "            ax[1][i].imshow(rec_img1, cmap=plt.cm.bone)\n",
    "    plt.show()"
   ]
  },
  {
   "cell_type": "code",
   "execution_count": null,
   "metadata": {},
   "outputs": [],
   "source": [
    "#### 다른 데이터셋으로 테스ㅡㅌ\n",
    "test_path = 'D:/abnormal_detection_dataset/mvtec_anomaly_detection/metal_nut/test/custom/'\n",
    "\n",
    "def img_read(src, file):\n",
    "    img = cv2.imread(src+file, cv2.COLOR_BGR2GRAY)\n",
    "    return img\n",
    "\n",
    "# src 경로에 있는 파일 명을 저장합니다.\n",
    "files = os.listdir(test_path)\n",
    "\n",
    "test_X = []\n",
    "test_Y = []\n",
    "\n",
    "# 경로와 파일명을 입력으로 넣어 확인하고\n",
    "# 데이터를 255로 나눠서 0~1사이로 정규화 하여 X 리스트에 넣습니다.\n",
    "for file in files:\n",
    "    test_X.append(img_read(test_path,file)/255.)\n",
    "    test_Y.append(1) # nomal label : 1\n",
    "\n",
    "# array로 데이터 변환\n",
    "test_X = np.array(test_X)\n",
    "test_Y = np.array(test_Y)\n",
    "\n",
    "print('Normal shape:',np.shape(test_X))\n",
    "print(test_X.shape)\n",
    "print(test_Y.shape)\n",
    "\n",
    "print(np.shape(test_X))\n",
    "print(np.shape(test_Y))\n",
    "\n",
    "\n",
    "test_X = torch.Tensor(test_X)\n",
    "\n",
    "# test_X = test_X.unsqueeze(dim=1)\n",
    "print(test_X.shape) #torch.Size([2400, 1, 1, 56, 56])\n",
    "\n",
    "print(test_X.shape)\n",
    "\n",
    "\n",
    "test_Y = torch.Tensor(test_Y)\n",
    "print(test_Y.shape)"
   ]
  },
  {
   "cell_type": "code",
   "execution_count": null,
   "metadata": {},
   "outputs": [
    {
     "ename": "NameError",
     "evalue": "name 'test_X' is not defined",
     "output_type": "error",
     "traceback": [
      "\u001b[1;31m---------------------------------------------------------------------------\u001b[0m",
      "\u001b[1;31mNameError\u001b[0m                                 Traceback (most recent call last)",
      "Cell \u001b[1;32mIn[26], line 4\u001b[0m\n\u001b[0;32m      2\u001b[0m \u001b[39mwith\u001b[39;00m torch\u001b[39m.\u001b[39mno_grad():\n\u001b[0;32m      3\u001b[0m     val_loss \u001b[39m=\u001b[39m \u001b[39m0.0\u001b[39m\n\u001b[1;32m----> 4\u001b[0m     \u001b[39mfor\u001b[39;00m val_input \u001b[39min\u001b[39;00m test_X:\n\u001b[0;32m      5\u001b[0m         val_output \u001b[39m=\u001b[39m model(val_input)\n\u001b[0;32m      6\u001b[0m         preds\u001b[39m.\u001b[39mappend(val_output)\n",
      "\u001b[1;31mNameError\u001b[0m: name 'test_X' is not defined"
     ]
    }
   ],
   "source": [
    "preds = []\n",
    "with torch.no_grad():\n",
    "    val_loss = 0.0\n",
    "    for val_input in test_X:\n",
    "        val_output = model(val_input)\n",
    "        preds.append(val_output)\n",
    "        v_loss = criterion(val_output, test_X)\n",
    "        val_loss += v_loss\n",
    "    print('valdation loss {}'.format(val_loss))\n",
    "\n",
    "sample_size = 10\n",
    "\n",
    "test_sample1, pred_sample1 = [], []\n",
    "\n",
    "with torch.no_grad():\n",
    "    fig, ax = plt.subplots(2, sample_size, figsize=(15, 4))\n",
    "    for i in range(sample_size):\n",
    "\n",
    "        val_input1 = test_X[i]\n",
    "        for val_input1 in test_X:\n",
    "            val_output1 = model(val_input1)\n",
    "            test_sample1.append(val_input1)\n",
    "            pred_sample1.append(val_output1)\n",
    "\n",
    "            org_img1 = test_sample1[i].reshape(700, 700)\n",
    "            rec_img1 = pred_sample1[i].reshape(700, 700)\n",
    "\n",
    "            ax[0][i].set_axis_off()\n",
    "            ax[1][i].set_axis_off()\n",
    "\n",
    "            ax[0][i].imshow(org_img1, cmap=plt.cm.bone)\n",
    "            ax[1][i].imshow(rec_img1, cmap=plt.cm.bone)\n",
    "    plt.show()"
   ]
  },
  {
   "cell_type": "code",
   "execution_count": null,
   "metadata": {},
   "outputs": [],
   "source": []
  }
 ],
 "metadata": {
  "kernelspec": {
   "display_name": "convae",
   "language": "python",
   "name": "python3"
  },
  "language_info": {
   "codemirror_mode": {
    "name": "ipython",
    "version": 3
   },
   "file_extension": ".py",
   "mimetype": "text/x-python",
   "name": "python",
   "nbconvert_exporter": "python",
   "pygments_lexer": "ipython3",
   "version": "3.8.16"
  },
  "orig_nbformat": 4
 },
 "nbformat": 4,
 "nbformat_minor": 2
}
